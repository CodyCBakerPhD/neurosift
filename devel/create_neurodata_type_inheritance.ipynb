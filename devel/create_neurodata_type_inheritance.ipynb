{
 "cells": [
  {
   "cell_type": "code",
   "execution_count": null,
   "metadata": {},
   "outputs": [],
   "source": [
    "import numpy as np\n",
    "import fsspec\n",
    "import json\n",
    "import h5py\n",
    "from fsspec.implementations.cached import CachingFileSystem\n",
    "\n",
    "# nwb_object_id = 'c86cdfba-e1af-45a7-8dfd-d243adc20ced'\n",
    "nwb_object_id = '66443b03-5266-48ba-af4b-f2fe4026acff'\n",
    "s3_url = f'https://dandiarchive.s3.amazonaws.com/blobs/{nwb_object_id[:3]}/{nwb_object_id[3:6]}/{nwb_object_id}'\n",
    "\n",
    "fs = CachingFileSystem(\n",
    "    fs=fsspec.filesystem(\"http\"),\n",
    "    cache_storage=\"nwb-cache\",  # Local folder for the cache\n",
    ")\n",
    "\n",
    "print('Opening file for lazy reading...')\n",
    "f = fs.open(s3_url, \"rb\")\n",
    "file = h5py.File(f)"
   ]
  },
  {
   "cell_type": "code",
   "execution_count": null,
   "metadata": {},
   "outputs": [],
   "source": [
    "specifications = file['specifications']"
   ]
  },
  {
   "cell_type": "code",
   "execution_count": null,
   "metadata": {},
   "outputs": [],
   "source": [
    "specifications['hdmf-common']['1.5.0'].keys()"
   ]
  },
  {
   "cell_type": "code",
   "execution_count": null,
   "metadata": {},
   "outputs": [],
   "source": [
    "inheritance1 = {}\n",
    "X1 = specifications['core']['2.3.0']\n",
    "X2 = specifications['hdmf-common']['1.5.0']\n",
    "for X in [X1, X2]:\n",
    "    for k, v in X.items():\n",
    "        if k == 'namespace':\n",
    "            continue\n",
    "        print('====' + k)\n",
    "        js = v[()]\n",
    "        spec = json.loads(js.decode('utf-8'))\n",
    "        if 'datasets' in spec:\n",
    "            for ds in spec['datasets']:\n",
    "                if 'neurodata_type_def' in ds and 'neurodata_type_inc' in ds:\n",
    "                    print(ds['neurodata_type_def'], ds['neurodata_type_inc'])\n",
    "                    inheritance1[ds['neurodata_type_def']] = ds['neurodata_type_inc']\n",
    "        if 'groups' in spec:\n",
    "            for gr in spec['groups']:\n",
    "                if 'neurodata_type_def' in gr and 'neurodata_type_inc' in gr:\n",
    "                    print(gr['neurodata_type_def'], gr['neurodata_type_inc'])\n",
    "                    inheritance1[gr['neurodata_type_def']] = gr['neurodata_type_inc']"
   ]
  },
  {
   "cell_type": "code",
   "execution_count": null,
   "metadata": {},
   "outputs": [],
   "source": [
    "print(json.dumps(inheritance1, indent=4))"
   ]
  },
  {
   "cell_type": "code",
   "execution_count": null,
   "metadata": {},
   "outputs": [],
   "source": [
    "inheritance2 = {}\n",
    "for k, v in inheritance1.items():\n",
    "    inheritance2[k] = []\n",
    "    v2 = v\n",
    "    while True:\n",
    "        inheritance2[k].append(v2)\n",
    "        if v2 not in inheritance1:\n",
    "            break\n",
    "        v2 = inheritance1[v2]\n",
    "for k, v in inheritance2.items():\n",
    "    print(k, v)"
   ]
  },
  {
   "cell_type": "code",
   "execution_count": null,
   "metadata": {},
   "outputs": [],
   "source": [
    "print(json.dumps(inheritance2, indent=4))"
   ]
  },
  {
   "cell_type": "code",
   "execution_count": null,
   "metadata": {},
   "outputs": [],
   "source": []
  }
 ],
 "metadata": {
  "kernelspec": {
   "display_name": "dev",
   "language": "python",
   "name": "python3"
  },
  "language_info": {
   "codemirror_mode": {
    "name": "ipython",
    "version": 3
   },
   "file_extension": ".py",
   "mimetype": "text/x-python",
   "name": "python",
   "nbconvert_exporter": "python",
   "pygments_lexer": "ipython3",
   "version": "3.9.16"
  },
  "orig_nbformat": 4,
  "vscode": {
   "interpreter": {
    "hash": "d393c6d4fc36e4e5e21cda7e879fa1328f615a1ea1755c9f5384455425f7e3a5"
   }
  }
 },
 "nbformat": 4,
 "nbformat_minor": 2
}
